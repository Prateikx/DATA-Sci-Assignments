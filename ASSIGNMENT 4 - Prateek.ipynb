{
 "cells": [
  {
   "cell_type": "code",
   "execution_count": 53,
   "id": "382e3cfd",
   "metadata": {},
   "outputs": [],
   "source": []
  },
  {
   "cell_type": "markdown",
   "id": "44793b4b",
   "metadata": {},
   "source": [
    "### 1. Write a Python program to check the validity of password input by users.\n",
    "Validation :\n",
    "• At least 1 letter between [a-z] and 1 letter between [A-Z].\n",
    "• At least 1 number between [0-9].\n",
    "• At least 1 character from [$#@].\n",
    "• Minimum length 6 characters\n",
    "• Maximum length 16 characters.\""
   ]
  },
  {
   "cell_type": "code",
   "execution_count": null,
   "id": "4bfa8629",
   "metadata": {},
   "outputs": [],
   "source": [
    "def password(password):\n",
    "    print(len(password))\n",
    "    if len(password) >= 6 and len(password)< 16:\n",
    "        if password.isalnum() and '#' in password or '@' in password or '$' in password:      #and password.isalnum():\n",
    "            print('yes')\n",
    "        else:\n",
    "            return 'Invalid Password: Password must contain atleast one of  [$#@] characters'\n",
    "    else:\n",
    "        return 'Invalid Password() '\n",
    "        \n",
    "\n",
    "n = input()\n",
    "password(n)"
   ]
  },
  {
   "cell_type": "markdown",
   "id": "6553170c",
   "metadata": {},
   "source": [
    "### 3. Write a Python program to check a triangle is equilateral, isosceles or scalene. "
   ]
  },
  {
   "cell_type": "code",
   "execution_count": 58,
   "id": "0393c892",
   "metadata": {},
   "outputs": [
    {
     "name": "stdout",
     "output_type": "stream",
     "text": [
      "Enter the length of 1st side: 56\n",
      "Enter the length of 2nd side: 77.56\n",
      "Enter the length of 3rd side: 59\n",
      "scalene Triangle\n"
     ]
    }
   ],
   "source": [
    "def triangleChecks(x,y,z):\n",
    "    if x+y>z and x+z>y and y+z>x:\n",
    "        if x==y==z:\n",
    "            print('An equilateral triangle')\n",
    "        elif x==y!=z or x!=y==z or x==z!=y:\n",
    "            print('An isosceles triangle')\n",
    "        else: \n",
    "            print('scalene Triangle')\n",
    "    else:\n",
    "        print('Triangle cannot be formed with these measures')\n",
    "\n",
    "\n",
    "\n",
    "triangleChecks(a,b,c)"
   ]
  },
  {
   "cell_type": "markdown",
   "id": "e637c7f1",
   "metadata": {},
   "source": [
    "### 2. Write a Python program to find numbers between 100 and 400 (both included) where each digit of a number is an even number. The numbers obtained should be printed in a comma-separated sequence"
   ]
  },
  {
   "cell_type": "code",
   "execution_count": 27,
   "id": "0a54acbf",
   "metadata": {},
   "outputs": [],
   "source": [
    "for i in range(100,401):\n",
    "    if i//10==0"
   ]
  },
  {
   "cell_type": "markdown",
   "id": "603c5de1",
   "metadata": {},
   "source": [
    "### 3 Write a Python program to get next day of a given date. "
   ]
  },
  {
   "cell_type": "code",
   "execution_count": 137,
   "id": "9c080fbe",
   "metadata": {},
   "outputs": [
    {
     "name": "stdout",
     "output_type": "stream",
     "text": [
      "Input a year: 2009\n",
      "Input a month [1-12]: 12\n",
      "Input a day [1-31]: 31\n",
      "2009 13 1\n"
     ]
    }
   ],
   "source": [
    "def NextDay(y,m,d):\n",
    "    \n",
    "    if d == '31':\n",
    "        d = 1\n",
    "        m = int(m)+1\n",
    "        print(y,m,d)\n",
    "        if m == 12:\n",
    "            print(1)\n",
    "        \n",
    "\n",
    "\n",
    "x = input('Input a year: ')\n",
    "y = input('Input a month [1-12]: ')\n",
    "z = input('Input a day [1-31]: ')\n",
    "\n",
    "NextDay(x,y,z)"
   ]
  },
  {
   "cell_type": "code",
   "execution_count": 130,
   "id": "20907c38",
   "metadata": {},
   "outputs": [
    {
     "name": "stdout",
     "output_type": "stream",
     "text": [
      "e: 2009\n",
      "2010\n"
     ]
    }
   ],
   "source": [
    "y = input('e: ')\n",
    "y4 = y[-1]\n",
    "if y4 == '9':\n",
    "    y = int(y)\n",
    "    print(y+1)\n",
    "else:\n",
    "    print(y)"
   ]
  },
  {
   "cell_type": "code",
   "execution_count": null,
   "id": "0ddc5cc0",
   "metadata": {},
   "outputs": [],
   "source": [
    "if d==31 and m == 12 and y[-1]==9:\n",
    "    d,m,y = 1,1,y+1\n",
    "    print(d,m,y)"
   ]
  },
  {
   "cell_type": "markdown",
   "id": "463cff6c",
   "metadata": {},
   "source": [
    "### 9. Write a Python program to construct the following pattern, using a nested for loop."
   ]
  },
  {
   "cell_type": "code",
   "execution_count": 1,
   "id": "b31edc66",
   "metadata": {},
   "outputs": [
    {
     "name": "stdout",
     "output_type": "stream",
     "text": [
      "Enter the number of rows: 5\n",
      "65\n",
      "A \n",
      "B C \n",
      "D E F \n",
      "G H I J \n",
      "K L M N O \n",
      "P Q R S T U \n"
     ]
    }
   ],
   "source": [
    "n = int(input('Enter the number of rows: '))\n",
    "k = ord('A')\n",
    "print(k)\n",
    "for i in range(n+1):\n",
    "    for j in range(i+1):\n",
    "        print(chr(k), end= ' ')\n",
    "        k+=1\n",
    "    print()"
   ]
  },
  {
   "cell_type": "markdown",
   "id": "d701508b",
   "metadata": {},
   "source": [
    "### 8. Write a Python program to construct the following pattern, using a nested for loop."
   ]
  },
  {
   "cell_type": "code",
   "execution_count": 133,
   "id": "d759c1a0",
   "metadata": {},
   "outputs": [
    {
     "name": "stdout",
     "output_type": "stream",
     "text": [
      "enter the number of rows: 6\n",
      "\n",
      "* \n",
      "* * \n",
      "* * * \n",
      "* * * * \n",
      "* * * * * \n",
      "* * * * \n",
      "* * * \n",
      "* * \n",
      "* \n",
      "\n"
     ]
    }
   ],
   "source": [
    "def leftTriangle(n):\n",
    "    for i in range(n):\n",
    "        print(i*'* ')\n",
    "    for i in range(1,n):\n",
    "        j = (n-i-1)\n",
    "        print(j*'* ')\n",
    "        \n",
    "        \n",
    "n = int(input('enter the number of rows: '))\n",
    "leftTriangle(n)"
   ]
  },
  {
   "cell_type": "markdown",
   "id": "28e38dde",
   "metadata": {},
   "source": [
    "### Given a number N such that N >= 5. The task is to print a Hut Star Pattern with (N + 3) rows as shown in the below examples.\n"
   ]
  },
  {
   "cell_type": "code",
   "execution_count": 127,
   "id": "a66caf6c",
   "metadata": {},
   "outputs": [
    {
     "name": "stdout",
     "output_type": "stream",
     "text": [
      "Enter: 7\n",
      "               *  \n",
      "            *  *  *  \n",
      "         *  *  *  *  *  \n",
      "      *  *  *  *  *  *  *  \n",
      "   *  *  *  *  *  *  *  *  *  \n",
      "*  *  *  *  *  *  *  *  *  *  *  \n",
      "*  *  *  *             *  *  *  *\n",
      "*  *  *  *             *  *  *  *\n",
      "*  *  *  *             *  *  *  *\n",
      "*  *  *  *             *  *  *  *\n",
      "*  *  *  *             *  *  *  *\n",
      "*  *  *  *             *  *  *  *\n",
      "*  *  *  *             *  *  *  *\n"
     ]
    }
   ],
   "source": [
    "n = int(input('Enter: '))\n",
    "for i in range(1, n):\n",
    "    for j in range(1, n-i):\n",
    "        print(' ', end='  ')\n",
    "    for j in range(0,2*i-1):\n",
    "        print('*', end='  ')\n",
    "    print()\n",
    "for i in range(n):\n",
    "    print((n-3)*'*  ' + (n+2)*' '+ (n-3)*'  *')\n",
    "    \n",
    "    \n",
    "    "
   ]
  },
  {
   "cell_type": "markdown",
   "id": "55b61860",
   "metadata": {},
   "source": [
    "### 5. Write a Python program to print alphabet pattern 'A'. Expected Output:"
   ]
  },
  {
   "cell_type": "code",
   "execution_count": 6,
   "id": "84b32f39",
   "metadata": {},
   "outputs": [
    {
     "name": "stdout",
     "output_type": "stream",
     "text": [
      "  ***  \n",
      " *   * \n",
      " *   * \n",
      " ***** \n",
      " *   * \n",
      " *   * \n",
      " *   * \n",
      "\n"
     ]
    }
   ],
   "source": [
    "r = ''\n",
    "for i in range(0,7):\n",
    "    for j in range(0,7):\n",
    "        if (((j==1 or j==5) and i != 0) or ((i==0 or i==3) and (j>1 and j<5))):\n",
    "            r = r + '*'\n",
    "        else:\n",
    "            r = r +' '\n",
    "    r = r +'\\n'\n",
    "print(r)"
   ]
  },
  {
   "cell_type": "markdown",
   "id": "138392df",
   "metadata": {},
   "source": [
    "### 10"
   ]
  },
  {
   "cell_type": "code",
   "execution_count": 28,
   "id": "94ca25e5",
   "metadata": {},
   "outputs": [
    {
     "name": "stdout",
     "output_type": "stream",
     "text": [
      "[[1, 2, 3], [4, 5, 6], [7, 8, 9], [10, 11]]\n",
      "3\n"
     ]
    }
   ],
   "source": [
    "list1=[1,2,3,4,5,6,7,8,9,10,11]\n",
    "list2=0\n",
    "a=len(list1)\n",
    "b=3\n",
    "c=[]\n",
    "for i in range(list2,a,b):\n",
    "    d=list1[i:i+b]\n",
    "    c.append(d)\n",
    "print(c)\n",
    "print(b)"
   ]
  },
  {
   "cell_type": "markdown",
   "id": "6ccc1882",
   "metadata": {},
   "source": [
    "## 7"
   ]
  },
  {
   "cell_type": "code",
   "execution_count": null,
   "id": "49fe9cef",
   "metadata": {},
   "outputs": [],
   "source": [
    "x=int(input())\n",
    "y=int(input())\n",
    "if x>0 and y>0:\n",
    "    print('first quadarant')\n",
    "elif x<0 and y>0:\n",
    "    print('second quadarant')\n",
    "elif x<0 and y<0:\n",
    "    print('third quadarant')\n",
    "elif x>0 and y<0:\n",
    "    print('fourth quadarant')\n",
    "elif x==0 and y==0:\n",
    "    print('lies on the origin')"
   ]
  },
  {
   "cell_type": "code",
   "execution_count": null,
   "id": "a7f01dbf",
   "metadata": {},
   "outputs": [],
   "source": []
  }
 ],
 "metadata": {
  "kernelspec": {
   "display_name": "Python 3 (ipykernel)",
   "language": "python",
   "name": "python3"
  },
  "language_info": {
   "codemirror_mode": {
    "name": "ipython",
    "version": 3
   },
   "file_extension": ".py",
   "mimetype": "text/x-python",
   "name": "python",
   "nbconvert_exporter": "python",
   "pygments_lexer": "ipython3",
   "version": "3.9.12"
  }
 },
 "nbformat": 4,
 "nbformat_minor": 5
}
