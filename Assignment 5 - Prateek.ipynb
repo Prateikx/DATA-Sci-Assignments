{
 "cells": [
  {
   "cell_type": "markdown",
   "id": "8525d687",
   "metadata": {},
   "source": [
    "### 1. The provided code stub will read in a dictionary containing key/value pairs of name:[marks] for a list of students. Print the average of the marks array for the student name provided, showing 2 places after the decimal."
   ]
  },
  {
   "cell_type": "code",
   "execution_count": 1,
   "id": "ab533e53",
   "metadata": {},
   "outputs": [
    {
     "name": "stdout",
     "output_type": "stream",
     "text": [
      "2\n",
      "abc 34 37 45\n",
      "def 78 88 67\n",
      "def\n",
      "77.67\n"
     ]
    }
   ],
   "source": [
    "import statistics\n",
    "if __name__ == '__main__':\n",
    "    n = int(input())\n",
    "    student_marks = {}\n",
    "    for _ in range(n):\n",
    "        name, *line = input().split()\n",
    "        scores = list(map(float, line))\n",
    "        student_marks[name] = scores\n",
    "    query_name = input()\n",
    "    x = student_marks.get(query_name)\n",
    "    y = statistics.mean(x)\n",
    "    z = \"{:.2f}\".format(y)\n",
    "    print(z)\n",
    "    \n",
    "    \n",
    "    # avg = sum(x)/len(x)\n",
    "    # print(avg)\n"
   ]
  },
  {
   "cell_type": "markdown",
   "id": "e242d8fd",
   "metadata": {},
   "source": [
    "### 2. You are given a string. Split the string on a \" \" (space) delimiter and join using a - hyphen."
   ]
  },
  {
   "cell_type": "code",
   "execution_count": 4,
   "id": "e366d71c",
   "metadata": {},
   "outputs": [
    {
     "name": "stdout",
     "output_type": "stream",
     "text": [
      "Python is a high level language\n",
      "Python-is-a-high-level-language\n"
     ]
    }
   ],
   "source": [
    "def split_and_join(line):\n",
    "    x = line.split()\n",
    "    y = \"-\".join(x)\n",
    "    return y\n",
    "\n",
    "\n",
    "if __name__ == '__main__':\n",
    "    line = input()\n",
    "    result = split_and_join(line)\n",
    "    print(result)"
   ]
  },
  {
   "cell_type": "markdown",
   "id": "2c4280af",
   "metadata": {},
   "source": [
    "### 3. You are given two sets of student roll numbers. One set has subscribed to the English newspaper, one set has subscribed to the French newspaper. Your task is to find the total number of students who have subscribed to both newspapers."
   ]
  },
  {
   "cell_type": "code",
   "execution_count": 11,
   "id": "44e299d1",
   "metadata": {},
   "outputs": [
    {
     "name": "stdout",
     "output_type": "stream",
     "text": [
      "9\n",
      "1 2 3 4 5 6 7 8 9\n",
      "9\n",
      "10 1 2 3 11 21 55 6 8\n",
      "5\n"
     ]
    }
   ],
   "source": [
    "n = int(input())\n",
    "x = input()\n",
    "a = x.split()\n",
    "# print(x)\n",
    "n2 = int(input())\n",
    "x2 = input()\n",
    "# print(x2)\n",
    "b = x2.split()\n",
    "new = [i for i in a if i in b]\n",
    "print(len(new))\n"
   ]
  },
  {
   "cell_type": "markdown",
   "id": "278e7e3d",
   "metadata": {},
   "source": [
    "### 4. Given the participants' score sheet for your University Sports Day, you are required to find the runner-up score. You are given  scores. Store them in a list and find the score of the runner-up."
   ]
  },
  {
   "cell_type": "code",
   "execution_count": 10,
   "id": "c8ebe833",
   "metadata": {},
   "outputs": [
    {
     "name": "stdout",
     "output_type": "stream",
     "text": [
      "Number of participants': 5\n",
      "Indiviual Scores: 2 3 6 6 5\n",
      "Runner-up Score:  5\n"
     ]
    }
   ],
   "source": [
    "if __name__ == '__main__':\n",
    "    n = int(input(\"Number of participants': \"))\n",
    "    arr = map(int, input('Indiviual Scores: ').split())\n",
    "    arr = list(arr)\n",
    "    arr.sort()\n",
    "    answer = max(i for i in arr if i < max(arr))\n",
    "    print('Runner-up Score: ', answer)\n"
   ]
  },
  {
   "cell_type": "markdown",
   "id": "7ebf35fa",
   "metadata": {},
   "source": [
    "### 5. You are given a string and your task is to swap cases. In other words, convert all lowercase letters to uppercase letters and vice versa."
   ]
  },
  {
   "cell_type": "code",
   "execution_count": 6,
   "id": "50c46028",
   "metadata": {},
   "outputs": [
    {
     "name": "stdout",
     "output_type": "stream",
     "text": [
      "Enter a StRinG: PyTHoN IS a HiGH LaNGUAge\n",
      "pYthOn is A hIgh lAnguaGE\n"
     ]
    }
   ],
   "source": [
    "def swap_case(s):\n",
    "    x = s.swapcase()\n",
    "    return x\n",
    "\n",
    "\n",
    "if __name__ == '__main__':\n",
    "    s = input('Enter a StRinG: ')\n",
    "    result = swap_case(s)\n",
    "    print(result)"
   ]
  },
  {
   "cell_type": "code",
   "execution_count": null,
   "id": "1665d742",
   "metadata": {},
   "outputs": [],
   "source": []
  }
 ],
 "metadata": {
  "kernelspec": {
   "display_name": "Python 3 (ipykernel)",
   "language": "python",
   "name": "python3"
  },
  "language_info": {
   "codemirror_mode": {
    "name": "ipython",
    "version": 3
   },
   "file_extension": ".py",
   "mimetype": "text/x-python",
   "name": "python",
   "nbconvert_exporter": "python",
   "pygments_lexer": "ipython3",
   "version": "3.9.12"
  }
 },
 "nbformat": 4,
 "nbformat_minor": 5
}
